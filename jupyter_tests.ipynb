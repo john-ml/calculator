{
 "cells": [
  {
   "cell_type": "code",
   "execution_count": 1,
   "metadata": {},
   "outputs": [],
   "source": [
    "# This is a test of Jupyter notebook\n",
    "def f(x): return x + 1"
   ]
  },
  {
   "cell_type": "code",
   "execution_count": 2,
   "metadata": {},
   "outputs": [
    {
     "name": "stdout",
     "output_type": "stream",
     "text": [
      "[1, 2, 3, 4, 5, 6, 7, 8, 9, 10]\n"
     ]
    }
   ],
   "source": [
    "print([f(n) for n in range(10)])"
   ]
  },
  {
   "attachments": {},
   "cell_type": "markdown",
   "metadata": {},
   "source": [
    "## Test of markdown\n",
    "\n",
    "Let $X$ be a variable declared in $\\LaTeX$. **Bold sentence.** _Italicized sentence._"
   ]
  },
  {
   "cell_type": "code",
   "execution_count": 3,
   "metadata": {},
   "outputs": [
    {
     "data": {
      "text/latex": [
       "$\\displaystyle Dims: 1x2m \\\\ Area: 3m^2 \\\\ Volume: 4m^3$"
      ],
      "text/plain": [
       "<IPython.core.display.Math object>"
      ]
     },
     "metadata": {},
     "output_type": "display_data"
    }
   ],
   "source": [
    "from IPython.display import display, Math\n",
    "a = 1\n",
    "b = 2\n",
    "P = 3\n",
    "V = 4\n",
    "display(Math(r'Dims: {}x{}m \\\\ Area: {}m^2 \\\\ Volume: {}m^3'.format(a, round(b,2), P, V)))"
   ]
  },
  {
   "cell_type": "code",
   "execution_count": 5,
   "metadata": {},
   "outputs": [],
   "source": [
    "import syntax as S"
   ]
  },
  {
   "cell_type": "code",
   "execution_count": 6,
   "metadata": {},
   "outputs": [],
   "source": [
    "@S.mixfix\n",
    "class Times:\n",
    "    m: any\n",
    "    times: S.Str('*', tex=r'\\times ')\n",
    "    n: any\n",
    "S.prec_ge(Times, Times.times)"
   ]
  },
  {
   "cell_type": "code",
   "execution_count": 7,
   "metadata": {},
   "outputs": [
    {
     "data": {
      "text/latex": [
       "$\\displaystyle m\\times n$"
      ],
      "text/plain": [
       "<IPython.core.display.Math object>"
      ]
     },
     "metadata": {},
     "output_type": "display_data"
    },
    {
     "data": {
      "text/latex": [
       "$\\displaystyle m\\times n\\times o$"
      ],
      "text/plain": [
       "<IPython.core.display.Math object>"
      ]
     },
     "metadata": {},
     "output_type": "display_data"
    },
    {
     "data": {
      "text/latex": [
       "$\\displaystyle m\\times n\\times o$"
      ],
      "text/plain": [
       "<IPython.core.display.Math object>"
      ]
     },
     "metadata": {},
     "output_type": "display_data"
    },
    {
     "data": {
      "text/latex": [
       "$\\displaystyle (m\\times n)\\times o$"
      ],
      "text/plain": [
       "<IPython.core.display.Math object>"
      ]
     },
     "metadata": {},
     "output_type": "display_data"
    },
    {
     "data": {
      "text/latex": [
       "$\\displaystyle n$"
      ],
      "text/plain": [
       "<IPython.core.display.Math object>"
      ]
     },
     "metadata": {},
     "output_type": "display_data"
    },
    {
     "data": {
      "text/latex": [
       "$\\displaystyle n\\times n$"
      ],
      "text/plain": [
       "<IPython.core.display.Math object>"
      ]
     },
     "metadata": {},
     "output_type": "display_data"
    },
    {
     "data": {
      "text/latex": [
       "$\\displaystyle n\\times n\\times n$"
      ],
      "text/plain": [
       "<IPython.core.display.Math object>"
      ]
     },
     "metadata": {},
     "output_type": "display_data"
    },
    {
     "data": {
      "text/latex": [
       "$\\displaystyle n\\times n\\times n\\times n$"
      ],
      "text/plain": [
       "<IPython.core.display.Math object>"
      ]
     },
     "metadata": {},
     "output_type": "display_data"
    },
    {
     "data": {
      "text/latex": [
       "$\\displaystyle n\\times n\\times n\\times n\\times n$"
      ],
      "text/plain": [
       "<IPython.core.display.Math object>"
      ]
     },
     "metadata": {},
     "output_type": "display_data"
    },
    {
     "data": {
      "text/latex": [
       "$\\displaystyle n\\times n\\times n\\times n\\times n\\times n$"
      ],
      "text/plain": [
       "<IPython.core.display.Math object>"
      ]
     },
     "metadata": {},
     "output_type": "display_data"
    },
    {
     "data": {
      "text/latex": [
       "$\\displaystyle n\\times n\\times n\\times n\\times n\\times n\\times n$"
      ],
      "text/plain": [
       "<IPython.core.display.Math object>"
      ]
     },
     "metadata": {},
     "output_type": "display_data"
    },
    {
     "data": {
      "text/latex": [
       "$\\displaystyle n\\times n\\times n\\times n\\times n\\times n\\times n\\times n$"
      ],
      "text/plain": [
       "<IPython.core.display.Math object>"
      ]
     },
     "metadata": {},
     "output_type": "display_data"
    },
    {
     "data": {
      "text/latex": [
       "$\\displaystyle n\\times n\\times n\\times n\\times n\\times n\\times n\\times n\\times n$"
      ],
      "text/plain": [
       "<IPython.core.display.Math object>"
      ]
     },
     "metadata": {},
     "output_type": "display_data"
    }
   ],
   "source": [
    "display(Math(S.global_parser.parse('m * n').str('tex')))\n",
    "display(Math(S.global_parser.parse('m * n * o').str('tex')))\n",
    "display(Math(S.global_parser.parse('m * (n * o)').str('tex')))\n",
    "display(Math(S.global_parser.parse('(m * n) * o').str('tex')))\n",
    "for i in range(1, 10):\n",
    "  display(Math(S.global_parser.parse(' * '.join(['n'] * i)).str('tex')))\n"
   ]
  },
  {
   "cell_type": "code",
   "execution_count": 8,
   "metadata": {},
   "outputs": [],
   "source": [
    "@S.mixfix\n",
    "class Forall:\n",
    "  forall: S.Str('forall', tex=r'\\forall ')\n",
    "  xf: S.F"
   ]
  },
  {
   "cell_type": "code",
   "execution_count": 11,
   "metadata": {},
   "outputs": [
    {
     "data": {
      "text/latex": [
       "$\\displaystyle \\forall x_{22}. \\forall x_{23}. (x_{23}\\times x_{23})$"
      ],
      "text/plain": [
       "<IPython.core.display.Math object>"
      ]
     },
     "metadata": {},
     "output_type": "display_data"
    },
    {
     "data": {
      "text/latex": [
       "$\\displaystyle \\forall x_{24}. \\forall x_{25}. (x_{25}\\times x_{25})$"
      ],
      "text/plain": [
       "<IPython.core.display.Math object>"
      ]
     },
     "metadata": {},
     "output_type": "display_data"
    },
    {
     "data": {
      "text/latex": [
       "$\\displaystyle \\forall x_{26}. \\forall x_{27}. (x_{27}\\times x_{27})$"
      ],
      "text/plain": [
       "<IPython.core.display.Math object>"
      ]
     },
     "metadata": {},
     "output_type": "display_data"
    },
    {
     "data": {
      "text/latex": [
       "$\\displaystyle \\forall x_{28}. \\forall x_{29}. (x_{29}\\times x_{29})$"
      ],
      "text/plain": [
       "<IPython.core.display.Math object>"
      ]
     },
     "metadata": {},
     "output_type": "display_data"
    },
    {
     "data": {
      "text/latex": [
       "$\\displaystyle \\forall x_{30}. \\forall x_{31}. (x_{31}\\times x_{31})$"
      ],
      "text/plain": [
       "<IPython.core.display.Math object>"
      ]
     },
     "metadata": {},
     "output_type": "display_data"
    },
    {
     "data": {
      "text/latex": [
       "$\\displaystyle \\forall x_{32}. \\forall x_{33}. (x_{33}\\times x_{33})$"
      ],
      "text/plain": [
       "<IPython.core.display.Math object>"
      ]
     },
     "metadata": {},
     "output_type": "display_data"
    },
    {
     "data": {
      "text/latex": [
       "$\\displaystyle \\forall x_{34}. \\forall x_{35}. (x_{35}\\times x_{35})$"
      ],
      "text/plain": [
       "<IPython.core.display.Math object>"
      ]
     },
     "metadata": {},
     "output_type": "display_data"
    },
    {
     "data": {
      "text/latex": [
       "$\\displaystyle \\forall x_{36}. \\forall x_{37}. (x_{37}\\times x_{37})$"
      ],
      "text/plain": [
       "<IPython.core.display.Math object>"
      ]
     },
     "metadata": {},
     "output_type": "display_data"
    },
    {
     "data": {
      "text/latex": [
       "$\\displaystyle \\forall x_{38}. \\forall x_{39}. (x_{39}\\times x_{39})$"
      ],
      "text/plain": [
       "<IPython.core.display.Math object>"
      ]
     },
     "metadata": {},
     "output_type": "display_data"
    },
    {
     "data": {
      "text/latex": [
       "$\\displaystyle \\forall x. \\forall x. (x\\times x)$"
      ],
      "text/plain": [
       "<IPython.core.display.Math object>"
      ]
     },
     "metadata": {},
     "output_type": "display_data"
    }
   ],
   "source": [
    "display(Math(Forall(S.F('x', lambda x: Forall(S.F('x', lambda x: Times(x, x))))).str('tex')))\n",
    "display(Math(Forall(S.F('x', lambda x: Forall(S.F('x', lambda x: Times(x, x))))).str('tex')))\n",
    "display(Math(Forall(S.F('x', lambda x: Forall(S.F('x', lambda x: Times(x, x))))).str('tex')))\n",
    "display(Math(Forall(S.F('x', lambda x: Forall(S.F('x', lambda x: Times(x, x))))).str('tex')))\n",
    "display(Math(Forall(S.F('x', lambda x: Forall(S.F('x', lambda x: Times(x, x))))).str('tex')))\n",
    "display(Math(Forall(S.F('x', lambda x: Forall(S.F('x', lambda x: Times(x, x))))).str('tex')))\n",
    "display(Math(Forall(S.F('x', lambda x: Forall(S.F('x', lambda x: Times(x, x))))).str('tex')))\n",
    "display(Math(Forall(S.F('x', lambda x: Forall(S.F('x', lambda x: Times(x, x))))).str('tex')))\n",
    "display(Math(Forall(S.F('x', lambda x: Forall(S.F('x', lambda x: Times(x, x))))).str('tex')))\n",
    "display(Math(S.global_parser.parse('forall x. forall x. (x * x)').str('tex')))"
   ]
  }
 ],
 "metadata": {
  "kernelspec": {
   "display_name": "Python 3",
   "language": "python",
   "name": "python3"
  },
  "language_info": {
   "codemirror_mode": {
    "name": "ipython",
    "version": 3
   },
   "file_extension": ".py",
   "mimetype": "text/x-python",
   "name": "python",
   "nbconvert_exporter": "python",
   "pygments_lexer": "ipython3",
   "version": "3.11.3"
  },
  "orig_nbformat": 4
 },
 "nbformat": 4,
 "nbformat_minor": 2
}
